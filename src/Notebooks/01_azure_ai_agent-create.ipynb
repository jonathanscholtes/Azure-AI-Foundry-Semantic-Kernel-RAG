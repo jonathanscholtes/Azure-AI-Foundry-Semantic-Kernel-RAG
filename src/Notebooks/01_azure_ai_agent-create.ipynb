{
 "cells": [
  {
   "cell_type": "code",
   "execution_count": 2,
   "id": "f726bd31",
   "metadata": {},
   "outputs": [],
   "source": [
    "! pip install -r requirements.txt --quiet"
   ]
  },
  {
   "cell_type": "markdown",
   "id": "460ecb91",
   "metadata": {},
   "source": [
    "# Creating and Deploying an Azure AI Agent Using SDK a\n",
    "\n",
    "This notebook demonstrates how to create and deploy an Azure AI Agent using the Azure SDK,\n",
    "\n"
   ]
  },
  {
   "cell_type": "code",
   "execution_count": 5,
   "id": "1b478234",
   "metadata": {},
   "outputs": [
    {
     "data": {
      "text/plain": [
       "True"
      ]
     },
     "execution_count": 5,
     "metadata": {},
     "output_type": "execute_result"
    }
   ],
   "source": [
    "\n",
    "from os import environ\n",
    "from dotenv import load_dotenv\n",
    "from azure.ai.projects import AIProjectClient\n",
    "from azure.identity import DefaultAzureCredential\n",
    "\n",
    "\n",
    "load_dotenv(override=True)\n",
    "\n",
    "\n"
   ]
  },
  {
   "cell_type": "markdown",
   "id": "0a862bfa",
   "metadata": {},
   "source": [
    "## Create a project client"
   ]
  },
  {
   "cell_type": "code",
   "execution_count": 6,
   "id": "36653bcd",
   "metadata": {},
   "outputs": [],
   "source": [
    "\n",
    "# Create an AIProjectClient instance\n",
    "project_client = AIProjectClient(\n",
    "    endpoint=environ[\"PROJECT_ENDPOINT\"],\n",
    "    credential=DefaultAzureCredential(),  # Use Azure Default Credential for authentication\n",
    ")"
   ]
  },
  {
   "cell_type": "markdown",
   "id": "907444e4",
   "metadata": {},
   "source": [
    "## Create an agent and a thread"
   ]
  },
  {
   "cell_type": "code",
   "execution_count": null,
   "id": "ee7bf68c",
   "metadata": {},
   "outputs": [
    {
     "name": "stdout",
     "output_type": "stream",
     "text": [
      "Created agent, ID: asst_ZTfa5QERUSpZijn55JOKI1Ia\n"
     ]
    }
   ],
   "source": [
    "instructions = \"\"\"You are an Evaluation Batch Analyzer. \n",
    "Your role is to process a batch of failed agent evaluation records. Each record includes:\n",
    "- user query\n",
    "- system response\n",
    "- failed evaluation metrics (groundedness, coherence, relevance)\n",
    "\n",
    "For each record:\n",
    "1. Summarize the main issue with the response.\n",
    "2. List the metrics that failed and the reasons.\n",
    "3. Capture any notable context (e.g., repeated mistakes, misunderstandings).\n",
    "\n",
    "At the batch level:\n",
    "- Identify recurring failure patterns across multiple records.\n",
    "- Highlight potential root causes (e.g., knowledge gaps, unclear policy wording).\n",
    "\n",
    "Return results in a structured, concise format that can be consumed by a final summarizer agent.\n",
    "\"\"\"\n",
    "\n",
    "\n",
    "agent = project_client.agents.create_agent(\n",
    "    model=\"gpt-4o\",\n",
    "    name=\"evaluation-batch-analyzer\", \n",
    "    instructions=instructions,\n",
    ")\n",
    "\n",
    "print(f\"Created agent, ID: {agent.id}\")\n",
    "\n",
    "\n"
   ]
  },
  {
   "cell_type": "code",
   "execution_count": null,
   "id": "40a79b14",
   "metadata": {},
   "outputs": [
    {
     "name": "stdout",
     "output_type": "stream",
     "text": [
      "Created final summarizer agent, ID: asst_mCYcJ6BvIeUdMd4bfBDSiUY0\n"
     ]
    }
   ],
   "source": [
    "final_instructions = \"\"\"You are a Final Evaluation Summarizer. \n",
    "Your role is to take multiple batch summaries from the Evaluation Batch Analyzer agent \n",
    "and consolidate them into one global summary.\n",
    "\n",
    "Your output should:\n",
    "1. Highlight the most common failure patterns across all batches.\n",
    "2. Provide overall statistics (e.g., frequency of each failed metric).\n",
    "3. Identify systemic issues or recurring themes that impact response quality.\n",
    "4. Suggest high-level areas for improvement (e.g., knowledge coverage, response clarity).\n",
    "\n",
    "Keep the summary structured, concise, and ready for stakeholders to review.\n",
    "\"\"\"\n",
    "\n",
    "final_agent = project_client.agents.create_agent(\n",
    "    model=\"gpt-4o\",\n",
    "    name=\"final-evaluation-summarizer\",\n",
    "    instructions=final_instructions,\n",
    ")\n",
    "\n",
    "print(f\"Created final summarizer agent, ID: {final_agent.id}\")"
   ]
  }
 ],
 "metadata": {
  "kernelspec": {
   "display_name": ".venv",
   "language": "python",
   "name": "python3"
  },
  "language_info": {
   "codemirror_mode": {
    "name": "ipython",
    "version": 3
   },
   "file_extension": ".py",
   "mimetype": "text/x-python",
   "name": "python",
   "nbconvert_exporter": "python",
   "pygments_lexer": "ipython3",
   "version": "3.12.10"
  }
 },
 "nbformat": 4,
 "nbformat_minor": 5
}
