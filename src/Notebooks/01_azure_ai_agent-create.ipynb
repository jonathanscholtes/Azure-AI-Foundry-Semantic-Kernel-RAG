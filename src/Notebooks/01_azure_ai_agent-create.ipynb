{
 "cells": [
  {
   "cell_type": "code",
   "execution_count": 2,
   "id": "f726bd31",
   "metadata": {},
   "outputs": [],
   "source": [
    "! pip install -r requirements.txt --quiet"
   ]
  },
  {
   "cell_type": "markdown",
   "id": "460ecb91",
   "metadata": {},
   "source": [
    "# Creating and Deploying an Azure AI Agent Using SDK a\n",
    "\n",
    "This notebook demonstrates how to create and deploy an Azure AI Agent using the Azure SDK,\n",
    "\n"
   ]
  },
  {
   "cell_type": "code",
   "execution_count": 5,
   "id": "1b478234",
   "metadata": {},
   "outputs": [
    {
     "data": {
      "text/plain": [
       "True"
      ]
     },
     "execution_count": 5,
     "metadata": {},
     "output_type": "execute_result"
    }
   ],
   "source": [
    "\n",
    "from os import environ\n",
    "from dotenv import load_dotenv\n",
    "from azure.ai.projects import AIProjectClient\n",
    "from azure.identity import DefaultAzureCredential\n",
    "\n",
    "\n",
    "load_dotenv(override=True)\n",
    "\n",
    "\n"
   ]
  },
  {
   "cell_type": "markdown",
   "id": "0a862bfa",
   "metadata": {},
   "source": [
    "## Create a project client"
   ]
  },
  {
   "cell_type": "code",
   "execution_count": 6,
   "id": "36653bcd",
   "metadata": {},
   "outputs": [],
   "source": [
    "\n",
    "# Create an AIProjectClient instance\n",
    "project_client = AIProjectClient(\n",
    "    endpoint=environ[\"PROJECT_ENDPOINT\"],\n",
    "    credential=DefaultAzureCredential(),  # Use Azure Default Credential for authentication\n",
    ")"
   ]
  },
  {
   "cell_type": "markdown",
   "id": "907444e4",
   "metadata": {},
   "source": [
    "## Create an agent and a thread"
   ]
  },
  {
   "cell_type": "code",
   "execution_count": 7,
   "id": "ee7bf68c",
   "metadata": {},
   "outputs": [
    {
     "name": "stdout",
     "output_type": "stream",
     "text": [
      "Created agent, ID: asst_ZTfa5QERUSpZijn55JOKI1Ia\n"
     ]
    }
   ],
   "source": [
    "instructions = \"\"\"\n",
    "You are an Evaluation Batch Analyzer. Your job is to analyze a batch of employee evaluation records \n",
    "that include user queries, responses, and failed evaluation metrics (groundedness, coherence, relevance). \n",
    "Summarize the failures, identify patterns, and return a structured summary for each record.\n",
    "\"\"\"\n",
    "\n",
    "\n",
    "agent = project_client.agents.create_agent(\n",
    "    model=\"gpt-4o\",\n",
    "    name=\"evaluation-batch-analyzer\", \n",
    "    instructions=instructions,\n",
    ")\n",
    "\n",
    "print(f\"Created agent, ID: {agent.id}\")\n",
    "\n",
    "\n"
   ]
  },
  {
   "cell_type": "code",
   "execution_count": 8,
   "id": "40a79b14",
   "metadata": {},
   "outputs": [
    {
     "name": "stdout",
     "output_type": "stream",
     "text": [
      "Created final summarizer agent, ID: asst_mCYcJ6BvIeUdMd4bfBDSiUY0\n"
     ]
    }
   ],
   "source": [
    "final_instructions = \"\"\"\n",
    "You are a Final Evaluation Summarizer. Your job is to take multiple batch summaries \n",
    "from the Evaluation Batch Analyzer agent and consolidate them into one global summary, \n",
    "highlighting key failure patterns and overall statistics.\n",
    "\"\"\"\n",
    "\n",
    "final_agent = project_client.agents.create_agent(\n",
    "    model=\"gpt-4o\",\n",
    "    name=\"final-evaluation-summarizer\",\n",
    "    instructions=final_instructions,\n",
    ")\n",
    "\n",
    "print(f\"Created final summarizer agent, ID: {final_agent.id}\")"
   ]
  }
 ],
 "metadata": {
  "kernelspec": {
   "display_name": ".venv",
   "language": "python",
   "name": "python3"
  },
  "language_info": {
   "codemirror_mode": {
    "name": "ipython",
    "version": 3
   },
   "file_extension": ".py",
   "mimetype": "text/x-python",
   "name": "python",
   "nbconvert_exporter": "python",
   "pygments_lexer": "ipython3",
   "version": "3.12.10"
  }
 },
 "nbformat": 4,
 "nbformat_minor": 5
}
