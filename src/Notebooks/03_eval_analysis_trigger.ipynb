{
 "cells": [
  {
   "cell_type": "code",
   "execution_count": null,
   "id": "ef26fc43",
   "metadata": {},
   "outputs": [],
   "source": [
    "import requests\n",
    "import json\n",
    "\n",
    "from os import environ\n",
    "from dotenv import load_dotenv\n",
    "\n",
    "load_dotenv(override=True)\n",
    "\n",
    "# Replace with your function URL\n",
    "FUNCTION_URL = environ[\"FUNCTION_URL\"]\n",
    "\n",
    "# Parameters to pass\n",
    "payload = {\n",
    "    \"agent\": \"HR_Agent\",\n",
    "    \"date\": \"2025-09-22\"\n",
    "}\n",
    "\n",
    "\n",
    "\n",
    "# Trigger the function\n",
    "response = requests.post(FUNCTION_URL, data=json.dumps(payload))\n",
    "\n",
    "# Print the response\n",
    "print(\"Status Code:\", response.status_code)\n",
    "print(\"Response Body:\", response.text)"
   ]
  }
 ],
 "metadata": {
  "kernelspec": {
   "display_name": ".venv",
   "language": "python",
   "name": "python3"
  },
  "language_info": {
   "codemirror_mode": {
    "name": "ipython",
    "version": 3
   },
   "file_extension": ".py",
   "mimetype": "text/x-python",
   "name": "python",
   "nbconvert_exporter": "python",
   "pygments_lexer": "ipython3",
   "version": "3.12.10"
  }
 },
 "nbformat": 4,
 "nbformat_minor": 5
}
