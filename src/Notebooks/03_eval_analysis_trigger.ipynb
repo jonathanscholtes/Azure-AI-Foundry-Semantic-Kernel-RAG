{
 "cells": [
  {
   "cell_type": "code",
   "execution_count": null,
   "id": "ef26fc43",
   "metadata": {},
   "outputs": [
    {
     "name": "stdout",
     "output_type": "stream",
     "text": [
      "Status Code: 202\n",
      "Response Body: {\"id\": \"b8b0379f6f3d447e81d95e51e21dba63\", \"statusQueryGetUri\": \"https://func-eval-17qsnipyz4gv.azurewebsites.net/runtime/webhooks/durabletask/instances/b8b0379f6f3d447e81d95e51e21dba63?taskHub=funceval17qsnipyz4gv&connection=Storage&code=FMpi-w89BGRX9Ye7yTWNipyKLQLKZAzDwbx0ngSGyLK6AzFuNAKdNw==\", \"sendEventPostUri\": \"https://func-eval-17qsnipyz4gv.azurewebsites.net/runtime/webhooks/durabletask/instances/b8b0379f6f3d447e81d95e51e21dba63/raiseEvent/{eventName}?taskHub=funceval17qsnipyz4gv&connection=Storage&code=FMpi-w89BGRX9Ye7yTWNipyKLQLKZAzDwbx0ngSGyLK6AzFuNAKdNw==\", \"terminatePostUri\": \"https://func-eval-17qsnipyz4gv.azurewebsites.net/runtime/webhooks/durabletask/instances/b8b0379f6f3d447e81d95e51e21dba63/terminate?reason={text}&taskHub=funceval17qsnipyz4gv&connection=Storage&code=FMpi-w89BGRX9Ye7yTWNipyKLQLKZAzDwbx0ngSGyLK6AzFuNAKdNw==\", \"rewindPostUri\": \"https://func-eval-17qsnipyz4gv.azurewebsites.net/runtime/webhooks/durabletask/instances/b8b0379f6f3d447e81d95e51e21dba63/rewind?reason={text}&taskHub=funceval17qsnipyz4gv&connection=Storage&code=FMpi-w89BGRX9Ye7yTWNipyKLQLKZAzDwbx0ngSGyLK6AzFuNAKdNw==\", \"purgeHistoryDeleteUri\": \"https://func-eval-17qsnipyz4gv.azurewebsites.net/runtime/webhooks/durabletask/instances/b8b0379f6f3d447e81d95e51e21dba63?taskHub=funceval17qsnipyz4gv&connection=Storage&code=FMpi-w89BGRX9Ye7yTWNipyKLQLKZAzDwbx0ngSGyLK6AzFuNAKdNw==\", \"restartPostUri\": \"https://func-eval-17qsnipyz4gv.azurewebsites.net/runtime/webhooks/durabletask/instances/b8b0379f6f3d447e81d95e51e21dba63/restart?taskHub=funceval17qsnipyz4gv&connection=Storage&code=FMpi-w89BGRX9Ye7yTWNipyKLQLKZAzDwbx0ngSGyLK6AzFuNAKdNw==\", \"suspendPostUri\": \"https://func-eval-17qsnipyz4gv.azurewebsites.net/runtime/webhooks/durabletask/instances/b8b0379f6f3d447e81d95e51e21dba63/suspend?reason={text}&taskHub=funceval17qsnipyz4gv&connection=Storage&code=FMpi-w89BGRX9Ye7yTWNipyKLQLKZAzDwbx0ngSGyLK6AzFuNAKdNw==\", \"resumePostUri\": \"https://func-eval-17qsnipyz4gv.azurewebsites.net/runtime/webhooks/durabletask/instances/b8b0379f6f3d447e81d95e51e21dba63/resume?reason={text}&taskHub=funceval17qsnipyz4gv&connection=Storage&code=FMpi-w89BGRX9Ye7yTWNipyKLQLKZAzDwbx0ngSGyLK6AzFuNAKdNw==\"}\n"
     ]
    }
   ],
   "source": [
    "import requests\n",
    "import json\n",
    "\n",
    "from os import environ\n",
    "from dotenv import load_dotenv\n",
    "\n",
    "load_dotenv(override=True)\n",
    "\n",
    "# Replace with your function URL\n",
    "FUNCTION_URL = environ[\"FUNCTION_URL\"]\n",
    "\n",
    "# Parameters to pass\n",
    "payload = {\n",
    "    \"agent\": \"HR_Agent\",\n",
    "    \"date\": \"2025-09-22\"\n",
    "}\n",
    "\n",
    "\n",
    "\n",
    "# Trigger the function\n",
    "response = requests.post(FUNCTION_URL, data=json.dumps(payload))\n",
    "\n",
    "# Print the response\n",
    "print(\"Status Code:\", response.status_code)\n",
    "print(\"Response Body:\", response.text)"
   ]
  }
 ],
 "metadata": {
  "kernelspec": {
   "display_name": ".venv",
   "language": "python",
   "name": "python3"
  },
  "language_info": {
   "codemirror_mode": {
    "name": "ipython",
    "version": 3
   },
   "file_extension": ".py",
   "mimetype": "text/x-python",
   "name": "python",
   "nbconvert_exporter": "python",
   "pygments_lexer": "ipython3",
   "version": "3.12.10"
  }
 },
 "nbformat": 4,
 "nbformat_minor": 5
}
