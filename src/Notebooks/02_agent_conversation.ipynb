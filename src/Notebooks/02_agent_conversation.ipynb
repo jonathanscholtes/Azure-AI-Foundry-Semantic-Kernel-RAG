{
 "cells": [
  {
   "cell_type": "code",
   "execution_count": null,
   "id": "e6720f10",
   "metadata": {},
   "outputs": [],
   "source": [
    "https://api-rag-demo-17qsnipyz4gv.azurewebsites.net/docs#/default/handle_request_hrpolicy_agent_post\n",
    "\n"
   ]
  }
 ],
 "metadata": {
  "language_info": {
   "name": "python"
  }
 },
 "nbformat": 4,
 "nbformat_minor": 5
}
